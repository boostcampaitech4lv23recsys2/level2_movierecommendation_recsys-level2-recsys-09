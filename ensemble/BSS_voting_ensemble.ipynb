{
 "cells": [
  {
   "cell_type": "code",
   "execution_count": 74,
   "metadata": {},
   "outputs": [],
   "source": [
    "import os\n",
    "\n",
    "import numpy as np\n",
    "import pandas as pd"
   ]
  },
  {
   "cell_type": "code",
   "execution_count": 75,
   "metadata": {},
   "outputs": [],
   "source": [
    "result = pd.DataFrame()\n",
    "PATH = './weight/'\n",
    "files = ['ease','dae','als', 'vae','dae_genre','bert']\n",
    "# weights = [1.,1.,1.,1.]\n",
    "weights = [0.1600, 0.1529, 0.1395, 0.1345, 0.1271, 0.0896]\n",
    "total = sum(weights)"
   ]
  },
  {
   "cell_type": "code",
   "execution_count": 76,
   "metadata": {},
   "outputs": [],
   "source": [
    "df_list = [pd.read_csv(PATH+f+'.csv') for f in files]\n",
    "\n",
    "for df,w in zip(df_list,weights):\n",
    "    df['weight'] = w"
   ]
  },
  {
   "cell_type": "code",
   "execution_count": 70,
   "metadata": {},
   "outputs": [],
   "source": [
    "result = pd.concat(df_list)\n",
    "g = result.groupby(['user','item'])"
   ]
  },
  {
   "cell_type": "code",
   "execution_count": 71,
   "metadata": {},
   "outputs": [],
   "source": [
    "_df = g.agg({'weight':'sum'}).reset_index()\n",
    "_df['weight'] = -_df['weight']\n",
    "_df = _df.sort_values(['user','weight'])\n",
    "_df['weight'] = -_df['weight']"
   ]
  },
  {
   "cell_type": "code",
   "execution_count": 72,
   "metadata": {},
   "outputs": [],
   "source": [
    "final_df = _df.groupby('user').head(10)"
   ]
  },
  {
   "cell_type": "code",
   "execution_count": 73,
   "metadata": {},
   "outputs": [],
   "source": [
    "final_df[['user','item']].to_csv('./output/sumens_ease_dae_als_vae.csv',index=False)#_vae.csv',index=False)# _dae_genre_bert.csv',index=False)"
   ]
  }
 ],
 "metadata": {
  "kernelspec": {
   "display_name": "base",
   "language": "python",
   "name": "python3"
  },
  "language_info": {
   "codemirror_mode": {
    "name": "ipython",
    "version": 3
   },
   "file_extension": ".py",
   "mimetype": "text/x-python",
   "name": "python",
   "nbconvert_exporter": "python",
   "pygments_lexer": "ipython3",
   "version": "3.8.5 (default, Sep  4 2020, 07:30:14) \n[GCC 7.3.0]"
  },
  "orig_nbformat": 4,
  "vscode": {
   "interpreter": {
    "hash": "d4d1e4263499bec80672ea0156c357c1ee493ec2b1c70f0acce89fc37c4a6abe"
   }
  }
 },
 "nbformat": 4,
 "nbformat_minor": 2
}
